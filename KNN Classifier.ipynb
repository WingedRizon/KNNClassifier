{
 "cells": [
  {
   "cell_type": "markdown",
   "id": "cca44244",
   "metadata": {},
   "source": [
    "### Heading\n",
    "\n",
    "# H1\n",
    "## H2\n",
    "### H3\n",
    "\n",
    "### Bold\n",
    "\n",
    "**bold text**"
   ]
  },
  {
   "cell_type": "code",
   "execution_count": 13,
   "id": "324180f9",
   "metadata": {
    "scrolled": true
   },
   "outputs": [],
   "source": [
    "import pandas as pd\n",
    "import numpy as np\n",
    "import seaborn as sns\n",
    "import matplotlib.pyplot as plt\n",
    "from statistics import mode"
   ]
  },
  {
   "cell_type": "markdown",
   "id": "db9674f2",
   "metadata": {},
   "source": [
    "# KNN Classifier\n",
    "\n",
    "This classifier works with both numeric and continous data and uses the KNN alogrythm to classify a single user case."
   ]
  },
  {
   "cell_type": "markdown",
   "id": "650cea8d",
   "metadata": {},
   "source": [
    "## Loading the dataset"
   ]
  },
  {
   "cell_type": "markdown",
   "id": "1dfd3dd9",
   "metadata": {},
   "source": [
    "Enter the following below:"
   ]
  },
  {
   "cell_type": "code",
   "execution_count": 5,
   "id": "e749ef0b",
   "metadata": {},
   "outputs": [],
   "source": [
    "df = pd.read_csv('iris.csv') #Replace Path\n",
    "lables = [\"sLength\", \"sWidth\",\"pLength\", \"pWidth\", \"TYPE\"] #Replace labels\n",
    "user = [5,5,2,2] #Replace User Case\n",
    "ToSearch = \"TYPE\" #Replace label to be classified\n",
    "k = 100 #Replace K -K is the amount of naighbours which will be compared, the average will be used in the classificaiton"
   ]
  },
  {
   "cell_type": "code",
   "execution_count": 7,
   "id": "d713fc8f",
   "metadata": {},
   "outputs": [],
   "source": [
    "df.columns = lables"
   ]
  },
  {
   "cell_type": "code",
   "execution_count": 8,
   "id": "a06f18d3",
   "metadata": {
    "scrolled": true
   },
   "outputs": [],
   "source": [
    "y = df[\"TYPE\"]"
   ]
  },
  {
   "cell_type": "code",
   "execution_count": 9,
   "id": "e8deb339",
   "metadata": {},
   "outputs": [
    {
     "name": "stdout",
     "output_type": "stream",
     "text": [
      "['sLength', 'sWidth', 'pLength', 'pWidth']\n"
     ]
    }
   ],
   "source": [
    "lable2 = lables.copy()\n",
    "lable2.remove(ToSearch)\n",
    "X = df[lable2]\n",
    "print (lable2)"
   ]
  },
  {
   "cell_type": "code",
   "execution_count": 10,
   "id": "8216afc3",
   "metadata": {},
   "outputs": [],
   "source": [
    "x = 0\n",
    "currentLabel = 0\n",
    "closest = []\n",
    "\n",
    "for index, row in df.iterrows():\n",
    "\n",
    "    for row1 in lable2:\n",
    " #       print(lable2[currentLabel])\n",
    "        if user[currentLabel].isdigit():\n",
    "            x += abs(row[row1] - user[currentLabel])\n",
    "        else: \n",
    "            if user[currentLabel] == row[row1]:\n",
    "                x += 1\n",
    "\n",
    "        currentLabel += 1\n",
    "        if currentLabel == len(lable2):\n",
    "            currentLabel = 0\n",
    "    closest.append([row[\"TYPE\"], x])        \n",
    "    x = 0\n",
    "    if len(closest) > k:\n",
    "        closest.sort(key = lambda x: x[1])\n",
    "        closest = closest[:-1]\n",
    "\n",
    "  \n",
    "\n",
    "\n"
   ]
  },
  {
   "cell_type": "code",
   "execution_count": 11,
   "id": "a26e72bc",
   "metadata": {},
   "outputs": [],
   "source": [
    "averager = {}\n",
    "for case in closest:\n",
    "    if case[0] in averager.keys():\n",
    "        averager[case[0]] += 1\n",
    "    else:\n",
    "        averager[case[0]] = 1\n",
    "max_key = max(averager, key=averager.get)\n",
    "\n",
    "\n"
   ]
  },
  {
   "cell_type": "code",
   "execution_count": 14,
   "id": "3f2abd39",
   "metadata": {},
   "outputs": [
    {
     "name": "stdout",
     "output_type": "stream",
     "text": [
      "Result Iris-setosa\n"
     ]
    }
   ],
   "source": [
    "print(\"Result %s\" % max_key)"
   ]
  },
  {
   "cell_type": "code",
   "execution_count": null,
   "id": "76a9b6a4",
   "metadata": {},
   "outputs": [],
   "source": []
  }
 ],
 "metadata": {
  "kernelspec": {
   "display_name": "Python 3",
   "language": "python",
   "name": "python3"
  },
  "language_info": {
   "codemirror_mode": {
    "name": "ipython",
    "version": 3
   },
   "file_extension": ".py",
   "mimetype": "text/x-python",
   "name": "python",
   "nbconvert_exporter": "python",
   "pygments_lexer": "ipython3",
   "version": "3.6.3"
  }
 },
 "nbformat": 4,
 "nbformat_minor": 5
}
